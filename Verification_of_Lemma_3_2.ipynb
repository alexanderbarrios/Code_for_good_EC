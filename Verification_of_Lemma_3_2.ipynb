{
 "cells": [
  {
   "cell_type": "code",
   "execution_count": 1,
   "metadata": {
    "collapsed": false
   },
   "outputs": [
   ],
   "source": [
    "load('definitions.sage')"
   ]
  },
  {
   "cell_type": "markdown",
   "metadata": {
    "collapsed": false
   },
   "source": [
    "The code below verifies the various statements considered in the proof of Lemma 3.2 in _Good elliptic curves with a specified torsion subgroup_. Let $E_T$ and $F_T$ be as given in this article. We use the following naming convention in our code: if $T=C_N$ (resp. $T=C_2 \\times C_{2N}$), then we write $X_T$ as XN (resp. X2N). We note that the lemma also refers to the elliptic curves $E_n$ in Nitaj's article, as well as the quantities $\\rho_m,\\tau_m$. Below, we refer to $E_n,\\rho_m,$ $\\tau_m$ by En, rhom, taum, respectively. See definitions.sage for their explicit definitions."
   ]
  },
  {
   "cell_type": "markdown",
   "metadata": {
    "collapsed": false
   },
   "source": [
    "The code below verifies that $F_{C_9} =E_{45}(\\rho_1,\\tau_1)$ and $F_{C_1} =E_{47}(\\rho_1,\\tau_1)$:"
   ]
  },
  {
   "cell_type": "code",
   "execution_count": 2,
   "metadata": {
    "collapsed": false
   },
   "outputs": [
    {
     "name": "stdout",
     "output_type": "stream",
     "text": [
      "True\n",
      "True\n"
     ]
    }
   ],
   "source": [
    "print(F9(a,b)==E45(rho1,tau1))\n",
    "print(F1(a,b)==E47(rho1,tau1))"
   ]
  },
  {
   "cell_type": "markdown",
   "metadata": {
    "collapsed": false
   },
   "source": [
    "The following code verifies that the following isomorphisms hold over $\\mathbb{Q}(a,b)$:\n",
    "\n",
    "$F_{C_2}(a,b) \\cong E_{44}(\\rho_3,\\tau_3)$\n",
    "\n",
    "$F_{C_3}(a,b) \\cong E_{46}(\\rho_1,\\tau_1)$\n",
    "\n",
    "$F_{C_4}(a,b) \\cong E_{54}(\\rho_2,\\tau_2)$\n",
    "\n",
    "$F_{C_6}(a,b) \\cong E_{55}(\\rho_2,\\tau_2)$\n",
    "\n",
    "$F_{C_8}(a,b) \\cong E_{39}(\\rho_3,\\tau_3)$\n",
    "\n",
    "$F_{C_{12}}(a,b) \\cong E_{52}(\\rho_2,\\tau_2)$\n",
    "\n",
    "$F_{C_2 \\times C_2}(a,b) \\cong E_{41}(\\rho_3,\\tau_3)$\n",
    "\n",
    "$F_{C_2 \\times C_4}(a,b) \\cong E_{38}(\\rho_3,\\tau_3)$\n",
    "\n",
    "$F_{C_2 \\times C_6}(a,b) \\cong E_{53}(\\rho_2,\\tau_2)$\n",
    "\n",
    "$F_{C_2 \\times C_8}(a,b) \\cong E_{37}(\\rho_3,\\tau_3)$\n",
    "\n",
    "$E_{C_4}(256a^2b^2(a^2-b^2)^2,-(a^2+b^2)^4) \\cong E_{42}(\\rho_3,\\tau_3)$"
   ]
  },
  {
   "cell_type": "code",
   "execution_count": 3,
   "metadata": {
    "collapsed": false
   },
   "outputs": [
    {
     "name": "stdout",
     "output_type": "stream",
     "text": [
      "True\n"
     ]
    },
    {
     "name": "stdout",
     "output_type": "stream",
     "text": [
      "True\n",
      "True\n",
      "True\n",
      "True\n",
      "True\n",
      "True\n",
      "True\n",
      "True\n"
     ]
    },
    {
     "name": "stdout",
     "output_type": "stream",
     "text": [
      "True\n",
      "True\n"
     ]
    }
   ],
   "source": [
    "print(F2(a,b).is_isomorphic(E44(rho3,tau3)))\n",
    "print(F3(a,b).is_isomorphic(E46(rho1,tau1)))\n",
    "print(F4(a,b).is_isomorphic(E54(rho2,tau2)))\n",
    "print(F6(a,b).is_isomorphic(E55(rho2,tau2)))\n",
    "print(F8(a,b).is_isomorphic(E39(rho3,tau3)))\n",
    "print(F12(a,b).is_isomorphic(E52(rho2,tau2)))\n",
    "print(F22(a,b).is_isomorphic(E41(rho3,tau3)))\n",
    "print(F24(a,b).is_isomorphic(E38(rho3,tau3)))\n",
    "print(F26(a,b).is_isomorphic(E53(rho2,tau2)))\n",
    "print(F28(a,b).is_isomorphic(E37(rho3,tau3)))\n",
    "print(E4(256*a^2*b^2*(a^2-b^2)^2,-(a^2+b^2)^4).is_isomorphic(E42(rho3,tau3)))"
   ]
  }
 ],
 "metadata": {
  "kernelspec": {
   "display_name": "SageMath 9.1",
   "language": "sagemath",
   "metadata": {
    "cocalc": {
     "description": "Open-source mathematical software system",
     "priority": 10,
     "url": "https://www.sagemath.org/"
    }
   },
   "name": "sage-9.1",
   "resource_dir": "/ext/jupyter/kernels/sage-9.1"
  },
  "language_info": {
   "codemirror_mode": {
    "name": "ipython",
    "version": 3
   },
   "file_extension": ".py",
   "mimetype": "text/x-python",
   "name": "python",
   "nbconvert_exporter": "python",
   "pygments_lexer": "ipython3",
   "version": "3.7.3"
  }
 },
 "nbformat": 4,
 "nbformat_minor": 4
}