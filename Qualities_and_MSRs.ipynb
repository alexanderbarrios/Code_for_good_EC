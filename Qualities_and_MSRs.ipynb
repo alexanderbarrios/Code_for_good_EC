{
 "cells": [
  {
   "cell_type": "code",
   "execution_count": 1,
   "metadata": {
    "collapsed": false
   },
   "outputs": [
   ],
   "source": [
    "load('definitions.sage')"
   ]
  },
  {
   "cell_type": "markdown",
   "metadata": {
    "collapsed": false
   },
   "source": [
    "The code below verifies the approximate values given in equations (4.2) and (4.3), as well as the approximate values of $\\sigma_m(H_T(0))$ given following Theorem 5.1."
   ]
  },
  {
   "cell_type": "markdown",
   "metadata": {
    "collapsed": false
   },
   "source": [
    "**Case $T=C_1$.** Let $P_0^S = (a_0,b_0,c_0)$ be as given in equation (4.2) for $S=C_8$. The code below verifies the approximate values of $\\sigma_m(H_T(0))$ is as claimed following Theorem 5.1."
   ]
  },
  {
   "cell_type": "code",
   "execution_count": 2,
   "metadata": {
    "collapsed": false
   },
   "outputs": [
    {
     "name": "stdout",
     "output_type": "stream",
     "text": [
      "sigma_m(H_T(0)) ≈ 6.30296439075999\n"
     ]
    }
   ],
   "source": [
    "A0,B0,AT,BT,DT,deltaT,F =2^6*3, 47^2, A8, B8, D8, theta1,F1\n",
    "P0=P_n(0,A0,B0,AT,BT,DT,deltaT)\n",
    "print('sigma_m(H_T(0)) ≈', Modified_Szpiro_Ratio(F(P0[0],P0[1]).change_ring(QQ)))"
   ]
  },
  {
   "cell_type": "markdown",
   "metadata": {
    "collapsed": false
   },
   "source": [
    "**Case $T=C_2$.** Let $P_0^S = (a_0,b_0,c_0)$ be as given in equation (4.2) for $S=C_8$. The code below verifies the approximate values of $\\sigma_m(H_T(0))$ is as claimed following Theorem 5.1."
   ]
  },
  {
   "cell_type": "code",
   "execution_count": 3,
   "metadata": {
    "collapsed": false
   },
   "outputs": [
    {
     "name": "stdout",
     "output_type": "stream",
     "text": [
      "sigma_m(H_T(0)) ≈ 6.20604844796406\n"
     ]
    }
   ],
   "source": [
    "A0,B0,AT,BT,DT,deltaT,F =2^6*3, 47^2, A8, B8, D8, theta2,F2\n",
    "P0=P_n(0,A0,B0,AT,BT,DT,deltaT)\n",
    "print('sigma_m(H_T(0)) ≈', Modified_Szpiro_Ratio(F(P0[0],P0[1]).change_ring(QQ)))"
   ]
  },
  {
   "cell_type": "markdown",
   "metadata": {
    "collapsed": false
   },
   "source": [
    "**Case $T=C_3$.** Let $P_0^T = (a_0,b_0,c_0)$ be as given in equation (4.2). The code below verifies the approximate values of $\\frac{b0}{a0}$, $q(P_0^T)$, and $q(P_1^T)$ are as given in equations (4.2) and (4.3). We also show that the approximate value of $\\sigma_m(H_T(0))$ is as claimed following Theorem 5.1."
   ]
  },
  {
   "cell_type": "code",
   "execution_count": 4,
   "metadata": {
    "collapsed": false
   },
   "outputs": [
    {
     "name": "stdout",
     "output_type": "stream",
     "text": [
      "b0/a0 ≈ 74.1049382716049\n",
      "q(P_0^T)≈ 1.10891480335100\n",
      "q(P_1^T)≈ 1.00278985580736\n",
      "sigma_m(H_T(0)) ≈ 6.10161178193949\n"
     ]
    }
   ],
   "source": [
    "A0,B0,AT,BT,DT,deltaT,F = 2*3^4, 5*7^4, A3, B3, D3, delta3, F3\n",
    "P0=P_n(0,A0,B0,AT,BT,DT,deltaT)\n",
    "P1=P_n(1,A0,B0,AT,BT,DT,deltaT)\n",
    "print('b0/a0 ≈',(B0/A0).numerical_approx())\n",
    "print('q(P_0^T)≈', Quality(P0[0],P0[1]))\n",
    "print('q(P_1^T)≈', Quality(P1[0],P1[1]))\n",
    "print('sigma_m(H_T(0)) ≈', Modified_Szpiro_Ratio(F(P0[0],P0[1]).change_ring(QQ)))"
   ]
  },
  {
   "cell_type": "markdown",
   "metadata": {
    "collapsed": false
   },
   "source": [
    "**Case $T=C_4$.** Let $P_0^T = (a_0,b_0,c_0)$ be as given in equation (4.2). The code below verifies the approximate values of $\\frac{b0}{a0}$, $q(P_0^T)$, and $q(P_1^T)$ are as given in equations (4.2) and (4.3). We also show that the approximate value of $\\sigma_m(H_T(0))$ is as claimed following Theorem 5.1."
   ]
  },
  {
   "cell_type": "code",
   "execution_count": 5,
   "metadata": {
    "collapsed": false
   },
   "outputs": [
    {
     "name": "stdout",
     "output_type": "stream",
     "text": [
      "b0/a0 ≈ 74.1049382716049\n",
      "q(P_0^T)≈ 1.10891480335100\n"
     ]
    },
    {
     "name": "stdout",
     "output_type": "stream",
     "text": [
      "q(P_1^T)≈ 1.00208603343458\n",
      "sigma_m(H_T(0)) ≈ 6.07588625531325\n"
     ]
    }
   ],
   "source": [
    "A0,B0,AT,BT,DT,deltaT,F = 2*3^4, 5*7^4, A4, B4, D4, delta4,F4\n",
    "P0=P_n(0,A0,B0,AT,BT,DT,deltaT)\n",
    "P1=P_n(1,A0,B0,AT,BT,DT,deltaT)\n",
    "print('b0/a0 ≈',(B0/A0).numerical_approx())\n",
    "print('q(P_0^T)≈', Quality(P0[0],P0[1]))\n",
    "print('q(P_1^T)≈', Quality(P1[0],P1[1]))\n",
    "print('sigma_m(H_T(0)) ≈', Modified_Szpiro_Ratio(F(P0[0],P0[1]).change_ring(QQ)))"
   ]
  },
  {
   "cell_type": "markdown",
   "metadata": {
    "collapsed": false
   },
   "source": [
    "**Case $T=C_5$.** The code below verifies the approximate values of $q(P_n^T)$ for $1\\leq n \\leq 5$, as given in equation (4.5)."
   ]
  },
  {
   "cell_type": "code",
   "execution_count": 6,
   "metadata": {
    "collapsed": false
   },
   "outputs": [
    {
     "name": "stdout",
     "output_type": "stream",
     "text": [
      "q(P_0^T)≈ 1.01204346679676\n",
      "q(P_1^T)≈ 1.00500977450208\n"
     ]
    },
    {
     "name": "stdout",
     "output_type": "stream",
     "text": [
      "q(P_2^T)≈ 1.00316278301095\n"
     ]
    },
    {
     "name": "stdout",
     "output_type": "stream",
     "text": [
      "q(P_3^T)≈ 1.00492973054946\n"
     ]
    },
    {
     "name": "stdout",
     "output_type": "stream",
     "text": [
      "q(P_4^T)≈ 1.00182045854490\n",
      "sigma_m(H_T(0)) ≈ 6.27662332658935\n",
      "sigma_m(H_T(1)) ≈ 6.11548909791171\n"
     ]
    }
   ],
   "source": [
    "print('q(P_0^T)≈', Quality(P5_n(0)[0],P5_n(0)[1]))\n",
    "print('q(P_1^T)≈', Quality(P5_n(1)[0],P5_n(1)[1]))\n",
    "print('q(P_2^T)≈', Quality(P5_n(2)[0],P5_n(2)[1]))\n",
    "print('q(P_3^T)≈', Quality(P5_n(3)[0],P5_n(3)[1]))\n",
    "print('q(P_4^T)≈', Quality(P5_n(4)[0],P5_n(4)[1]))\n",
    "print('sigma_m(H_T(0)) ≈', Modified_Szpiro_Ratio(F5(1,2^0).change_ring(QQ)))\n",
    "print('sigma_m(H_T(1)) ≈', Modified_Szpiro_Ratio(F5(1,2^1).change_ring(QQ)))"
   ]
  },
  {
   "cell_type": "markdown",
   "metadata": {
    "collapsed": false
   },
   "source": [
    "**Case $T=C_6$.** Let $P_0^T = (a_0,b_0,c_0)$ be as given in equation (4.2). The code below verifies the approximate values of $\\frac{b0}{a0}$, $q(P_0^T)$, and $q(P_1^T)$ are as given in equations (4.2) and (4.3). We also show that the approximate value of $\\sigma_m(H_T(0))$ is as claimed following Theorem 5.1."
   ]
  },
  {
   "cell_type": "code",
   "execution_count": 0,
   "metadata": {
    "collapsed": false
   },
   "outputs": [
   ],
   "source": [
    "A0,B0,AT,BT,DT,deltaT,F = 2*3^4, 5*7^4, A6, B6, D6, delta6,F6\n",
    "P0=P_n(0,A0,B0,AT,BT,DT,deltaT)\n",
    "P1=P_n(1,A0,B0,AT,BT,DT,deltaT)\n",
    "print('b0/a0 ≈',(B0/A0).numerical_approx())\n",
    "print('q(P_0^T)≈', Quality(P0[0],P0[1]))\n",
    "print('q(P_1^T)≈', Quality(P1[0],P1[1]))\n",
    "print('sigma_m(H_T(0)) ≈', Modified_Szpiro_Ratio(F(P0[0],P0[1]).change_ring(QQ)))"
   ]
  },
  {
   "cell_type": "markdown",
   "metadata": {
    "collapsed": false
   },
   "source": [
    "**Case $T=C_7$.** Let $P_0^T = (a_0,b_0,c_0)$ be as given in equation (4.2). The code below verifies the approximate values of $\\frac{b0}{a0}$, $q(P_0^T)$, and $q(P_1^T)$ are as given in equations (4.2) and (4.3). We also show that the approximate value of $\\sigma_m(H_T(0))$ is as claimed following Theorem 5.1."
   ]
  },
  {
   "cell_type": "code",
   "execution_count": 0,
   "metadata": {
    "collapsed": false
   },
   "outputs": [
   ],
   "source": [
    "A0,B0,AT,BT,DT,deltaT,F =2^6*3^3*7, 5*31^3, A7, B7, D7, delta7,F7\n",
    "P0=P_n(0,A0,B0,AT,BT,DT,deltaT)\n",
    "P1=P_n(1,A0,B0,AT,BT,DT,deltaT)\n",
    "print('b0/a0 ≈',(B0/A0).numerical_approx())\n",
    "print('q(P_0^T)≈', Quality(P0[0],P0[1]))\n",
    "print('q(P_1^T)≈', Quality(P1[0],P1[1]))\n",
    "print('sigma_m(H_T(0)) ≈', Modified_Szpiro_Ratio(F(P0[0],P0[1]).change_ring(QQ)))"
   ]
  },
  {
   "cell_type": "markdown",
   "metadata": {
    "collapsed": false
   },
   "source": [
    "**Case $T=C_8$.** Let $P_0^T = (a_0,b_0,c_0)$ be as given in equation (4.2). The code below verifies the approximate values of $\\frac{b0}{a0}$, $q(P_0^T)$, and $q(P_1^T)$ are as given in equations (4.2) and (4.3). We also show that the approximate value of $\\sigma_m(H_T(0))$ is as claimed following Theorem 5.1."
   ]
  },
  {
   "cell_type": "code",
   "execution_count": 0,
   "metadata": {
    "collapsed": false
   },
   "outputs": [
   ],
   "source": [
    "A0,B0,AT,BT,DT,deltaT,F =2^6*3, 47^2, A8, B8, D8, delta8,F8\n",
    "P0=P_n(0,A0,B0,AT,BT,DT,deltaT)\n",
    "P1=P_n(1,A0,B0,AT,BT,DT,deltaT)\n",
    "print('b0/a0 ≈',(B0/A0).numerical_approx())\n",
    "print('q(P_0^T)≈', Quality(P0[0],P0[1]))\n",
    "print('q(P_1^T)≈', Quality(P1[0],P1[1]))\n",
    "print('sigma_m(H_T(0)) ≈', Modified_Szpiro_Ratio(F(P0[0],P0[1]).change_ring(QQ)))"
   ]
  },
  {
   "cell_type": "markdown",
   "metadata": {
    "collapsed": false
   },
   "source": [
    "**Case $T=C_9$.** Let $P_0^T = (a_0,b_0,c_0)$ be as given in equation (4.2). The code below verifies the approximate values of $\\frac{b0}{a0}$, $q(P_0^T)$, and $q(P_1^T)$ are as given in equations (4.2) and (4.3). We also show that the approximate value of $\\sigma_m(H_T(0))$ is as claimed following Theorem 5.1."
   ]
  },
  {
   "cell_type": "code",
   "execution_count": 0,
   "metadata": {
    "collapsed": false
   },
   "outputs": [
   ],
   "source": [
    "A0,B0,AT,BT,DT,deltaT,F =2^6*3, 47^2, A9, B9, D9, delta9,F9\n",
    "P0=P_n(0,A0,B0,AT,BT,DT,deltaT)\n",
    "P1=P_n(1,A0,B0,AT,BT,DT,deltaT)\n",
    "print('b0/a0 ≈',(B0/A0).numerical_approx())\n",
    "print('q(P_0^T)≈', Quality(P0[0],P0[1]))\n",
    "print('q(P_1^T)≈', Quality(P1[0],P1[1]))\n",
    "print('sigma_m(H_T(0)) ≈', Modified_Szpiro_Ratio(F(P0[0],P0[1]).change_ring(QQ)))"
   ]
  },
  {
   "cell_type": "markdown",
   "metadata": {
    "collapsed": false
   },
   "source": [
    "**Case $T=C_{10}$.** Let $P_0^T = (a_0,b_0,c_0)$ be as given in equation (4.2). The code below verifies the approximate values of $\\frac{b0}{a0}$, $q(P_0^T)$, and $q(P_1^T)$ are as given in equations (4.2) and (4.3). We also show that the approximate value of $\\sigma_m(H_T(0))$ is as claimed following Theorem 5.1."
   ]
  },
  {
   "cell_type": "code",
   "execution_count": 0,
   "metadata": {
    "collapsed": false
   },
   "outputs": [
   ],
   "source": [
    "A0,B0,AT,BT,DT,deltaT,F = 2^6*3^2*5, 13*23^3, A10, B10, D10, delta10,F10\n",
    "P0=P_n(0,A0,B0,AT,BT,DT,deltaT)\n",
    "P1=P_n(1,A0,B0,AT,BT,DT,deltaT)\n",
    "print('b0/a0 ≈',(B0/A0).numerical_approx())\n",
    "print('q(P_0^T)≈', Quality(P0[0],P0[1]))\n",
    "print('q(P_1^T)≈', Quality(P1[0],P1[1]))\n",
    "print('sigma_m(H_T(0)) ≈', Modified_Szpiro_Ratio(F(P0[0],P0[1]).change_ring(QQ)))"
   ]
  },
  {
   "cell_type": "markdown",
   "metadata": {
    "collapsed": false
   },
   "source": [
    "**Case $T=C_{12}$.** Let $P_0^T = (a_0,b_0,c_0)$ be as given in equation (4.2). The code below verifies the approximate values of $\\frac{b0}{a0}$, $q(P_0^T)$, and $q(P_1^T)$ are as given in equations (4.2) and (4.3). We also show that the approximate value of $\\sigma_m(H_T(0))$ is as claimed following Theorem 5.1."
   ]
  },
  {
   "cell_type": "code",
   "execution_count": 0,
   "metadata": {
    "collapsed": false
   },
   "outputs": [
   ],
   "source": [
    "A0,B0,AT,BT,DT,deltaT,F =2^6*3, 47^2, A12, B12, D12, delta12,F12\n",
    "P0=P_n(0,A0,B0,AT,BT,DT,deltaT)\n",
    "P1=P_n(1,A0,B0,AT,BT,DT,deltaT)\n",
    "print('b0/a0 ≈',(B0/A0).numerical_approx())\n",
    "print('q(P_0^T)≈', Quality(P0[0],P0[1]))\n",
    "print('q(P_1^T)≈', Quality(P1[0],P1[1]))\n",
    "print('sigma_m(H_T(0)) ≈', Modified_Szpiro_Ratio(F(P0[0],P0[1]).change_ring(QQ)))"
   ]
  },
  {
   "cell_type": "markdown",
   "metadata": {
    "collapsed": false
   },
   "source": [
    "**Case $T=C_2 \\times C_2$.** Let $P_0^T = (a_0,b_0,c_0)$ be as given in equation (4.2). The code below verifies the approximate values of $\\frac{b0}{a0}$, $q(P_0^T)$, and $q(P_1^T)$ are as given in equations (4.2) and (4.3). We also show that the approximate value of $\\sigma_m(H_T(0))$ is as claimed following Theorem 5.1."
   ]
  },
  {
   "cell_type": "code",
   "execution_count": 0,
   "metadata": {
    "collapsed": false
   },
   "outputs": [
   ],
   "source": [
    "A0,B0,AT,BT,DT,deltaT,F =2^4*3^2, 5^6*53, A22, B22, D22, delta22,F22\n",
    "P0=P_n(0,A0,B0,AT,BT,DT,deltaT)\n",
    "P1=P_n(1,A0,B0,AT,BT,DT,deltaT)\n",
    "print('b0/a0 ≈',(B0/A0).numerical_approx())\n",
    "print('q(P_0^T)≈', Quality(P0[0],P0[1]))\n",
    "print('q(P_1^T)≈', Quality(P1[0],P1[1]))\n",
    "print('sigma_m(H_T(0)) ≈', Modified_Szpiro_Ratio(F(P0[0],P0[1]).change_ring(QQ)))"
   ]
  },
  {
   "cell_type": "markdown",
   "metadata": {
    "collapsed": false
   },
   "source": [
    "**Case $T=C_2 \\times C_4$.** Let $P_0^T = (a_0,b_0,c_0)$ be as given in equation (4.2). The code below verifies the approximate values of $\\frac{b0}{a0}$, $q(P_0^T)$, and $q(P_1^T)$ are as given in equations (4.2) and (4.3). We also show that the approximate value of $\\sigma_m(H_T(0))$ is as claimed following Theorem 5.1."
   ]
  },
  {
   "cell_type": "code",
   "execution_count": 0,
   "metadata": {
    "collapsed": false
   },
   "outputs": [
   ],
   "source": [
    "A0,B0,AT,BT,DT,deltaT,F = 2*3^4, 5*7^4, A24, B24, D24, delta24,F24\n",
    "P0=P_n(0,A0,B0,AT,BT,DT,deltaT)\n",
    "P1=P_n(1,A0,B0,AT,BT,DT,deltaT)\n",
    "print('b0/a0 ≈',(B0/A0).numerical_approx())\n",
    "print('q(P_0^T)≈', Quality(P0[0],P0[1]))\n",
    "print('q(P_1^T)≈', Quality(P1[0],P1[1]))\n",
    "print('sigma_m(H_T(0)) ≈', Modified_Szpiro_Ratio(F(P0[0],P0[1]).change_ring(QQ)))"
   ]
  },
  {
   "cell_type": "markdown",
   "metadata": {
    "collapsed": false
   },
   "source": [
    "**Case $T=C_2 \\times C_6$.** Let $P_0^T = (a_0,b_0,c_0)$ be as given in equation (4.2). The code below verifies the approximate values of $\\frac{b0}{a0}$, $q(P_0^T)$, and $q(P_1^T)$ are as given in equations (4.2) and (4.3). We also show that the approximate value of $\\sigma_m(H_T(0))$ is as claimed following Theorem 5.1."
   ]
  },
  {
   "cell_type": "code",
   "execution_count": 0,
   "metadata": {
    "collapsed": false
   },
   "outputs": [
   ],
   "source": [
    "A0,B0,AT,BT,DT,deltaT,F =2^6*3, 47^2, A26, B26, D26, delta26, F26\n",
    "P0=P_n(0,A0,B0,AT,BT,DT,deltaT)\n",
    "P1=P_n(1,A0,B0,AT,BT,DT,deltaT)\n",
    "print('b0/a0 ≈',(B0/A0).numerical_approx())\n",
    "print('q(P_0^T)≈', Quality(P0[0],P0[1]))\n",
    "print('q(P_1^T)≈', Quality(P1[0],P1[1]))\n",
    "print('sigma_m(H_T(0)) ≈', Modified_Szpiro_Ratio(F(P0[0],P0[1]).change_ring(QQ)))"
   ]
  },
  {
   "cell_type": "markdown",
   "metadata": {
    "collapsed": false
   },
   "source": [
    "**Case $T=C_2 \\times C_8$.** Let $P_0^T = (a_0,b_0,c_0)$ be as given in equation (4.2). The code below verifies the approximate values of $\\frac{b0}{a0}$, $q(P_0^T)$, and $q(P_1^T)$ are as given in equations (4.2) and (4.3). We also show that the approximate value of $\\sigma_m(H_T(0))$ is as claimed following Theorem 5.1."
   ]
  },
  {
   "cell_type": "code",
   "execution_count": 0,
   "metadata": {
    "collapsed": false
   },
   "outputs": [
   ],
   "source": [
    "A0,B0,AT,BT,DT,deltaT,F =2^6*3, 47^2, A28, B28, D28, delta28,F28\n",
    "P0=P_n(0,A0,B0,AT,BT,DT,deltaT)\n",
    "P1=P_n(1,A0,B0,AT,BT,DT,deltaT)\n",
    "print('b0/a0 ≈',(B0/A0).numerical_approx())\n",
    "print('q(P_0^T)≈', Quality(P0[0],P0[1]))\n",
    "print('q(P_1^T)≈', Quality(P1[0],P1[1]))\n",
    "print('sigma_m(H_T(0)) ≈', Modified_Szpiro_Ratio(F(P0[0],P0[1]).change_ring(QQ)))\n",
    "#print('sigma_m(H_T(1)) ≈', Modified_Szpiro_Ratio(F(P1[0],P1[1]).change_ring(QQ)))"
   ]
  }
 ],
 "metadata": {
  "kernelspec": {
   "display_name": "SageMath 9.1",
   "language": "sagemath",
   "metadata": {
    "cocalc": {
     "description": "Open-source mathematical software system",
     "priority": 10,
     "url": "https://www.sagemath.org/"
    }
   },
   "name": "sage-9.1",
   "resource_dir": "/ext/jupyter/kernels/sage-9.1"
  },
  "language_info": {
   "codemirror_mode": {
    "name": "ipython",
    "version": 3
   },
   "file_extension": ".py",
   "mimetype": "text/x-python",
   "name": "python",
   "nbconvert_exporter": "python",
   "pygments_lexer": "ipython3",
   "version": "3.7.3"
  }
 },
 "nbformat": 4,
 "nbformat_minor": 4
}