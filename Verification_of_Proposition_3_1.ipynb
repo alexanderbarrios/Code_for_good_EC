{
 "cells": [
  {
   "cell_type": "code",
   "execution_count": 1,
   "metadata": {
    "collapsed": false
   },
   "outputs": [
   ],
   "source": [
    "load('definitions.sage')"
   ]
  },
  {
   "cell_type": "markdown",
   "metadata": {
    "collapsed": false
   },
   "source": [
    "The code below verifies the various statements considered in the proof of Proposition 3.1 in _Good elliptic curves with a specified torsion subgroup_. In what follows, we let $\\mu_T, \\nu_T, u_T, A_T, B_T, D_T, E_T, F_T, \\mathfrak{A}_T, \\mathfrak{B}_T, \\mathfrak{D}_T$ be as defined in Proposition 3.1. We use the following naming convention in our code: if $T=C_N$ (resp. $T=C_2 \\times C_{2N}$), then we write $X_T$ as XN (resp. X2N). See definitions.sage for their explicit definitions. We also note that S and R below refer to $\\mathbb{Q}(a,b)$ and $\\mathbb{Q}(a,b,r,s)$, respectively. In particular, the input S(x) considers $x$ as an element of $S$. Similarly for R.\n",
    "\n",
    "We now verify Proposition 3.1 by considering each $T$ separately."
   ]
  },
  {
   "cell_type": "markdown",
   "metadata": {
    "collapsed": false
   },
   "source": [
    "**Case $T=C_1$.** The code below verifies that $A_T, B_T,$ and $D_T$ are as claimed:"
   ]
  },
  {
   "cell_type": "code",
   "execution_count": 2,
   "metadata": {
    "collapsed": false
   },
   "outputs": [
    {
     "name": "stdout",
     "output_type": "stream",
     "text": [
      "True\n",
      "True\n",
      "True\n"
     ]
    }
   ],
   "source": [
    "F = F1(a,b)\n",
    "print(S(F.c4()) == S(A1(a,b)))\n",
    "print(S(F.c6()) == S(B1(a,b)))\n",
    "print(S(F.discriminant()) == S(D1(a,b)))"
   ]
  },
  {
   "cell_type": "markdown",
   "metadata": {
    "collapsed": false
   },
   "source": [
    "The code below verifies that $\\mu_T A_T + \\nu_T D_T = 3^{33}(s a^{47} + r b^{47} ).$ Since $\\gcd(a,b)=1$, we have that $\\gcd(A_T,D_T) | 3^{33}$. Since $a \\equiv 0 \\mod 6$, we conclude that $\\gcd(A_T,D_T)=1$."
   ]
  },
  {
   "cell_type": "code",
   "execution_count": 3,
   "metadata": {
    "collapsed": false
   },
   "outputs": [
    {
     "name": "stdout",
     "output_type": "stream",
     "text": [
      "True\n"
     ]
    }
   ],
   "source": [
    "print(R(mu1) * R(A1(a,b))+ R(nu1) *  R(D1(a,b)) == R(3^33 *( s*a^47 + r*b^47)))"
   ]
  },
  {
   "cell_type": "markdown",
   "metadata": {
    "collapsed": false
   },
   "source": [
    "**Case $T=C_2$.** The code below verifies that $\\mu_T \\mathfrak{A}_T + \\nu_T \\mathfrak{B}_T\\mathfrak{D}_T = 2^{15}(sa^{17}+rb^{17}).$ Since $\\gcd(a,b)=1$, we have that $\\gcd(\\mathfrak{A}_T,\\mathfrak{B}_T\\mathfrak{D}_T) | 2^{15}$. Since $a$ is even, we have that $\\mathfrak{A}_T$ is odd. It follows that $\\gcd (\\mathfrak{A}_T,\\mathfrak{B}_T\\mathfrak{D}_T)=1$."
   ]
  },
  {
   "cell_type": "code",
   "execution_count": 4,
   "metadata": {
    "collapsed": false
   },
   "outputs": [
    {
     "name": "stdout",
     "output_type": "stream",
     "text": [
      "True\n"
     ]
    }
   ],
   "source": [
    "print(R(mu2) * R(fA2)+ R(nu2) *  R(fB2*fD2) == R(2^15 *( s*a^17 + r*b^17)))"
   ]
  },
  {
   "cell_type": "markdown",
   "metadata": {
    "collapsed": false
   },
   "source": [
    "The code below verifies that $F_T(a,b) = E_T(\\mathfrak{A}_T,\\mathfrak{B}_T,\\mathfrak{D}_T)$:"
   ]
  },
  {
   "cell_type": "code",
   "execution_count": 5,
   "metadata": {
    "collapsed": false
   },
   "outputs": [
    {
     "data": {
      "text/plain": [
       "True"
      ]
     },
     "execution_count": 5,
     "metadata": {
     },
     "output_type": "execute_result"
    }
   ],
   "source": [
    "F2(a,b) == E2(fA2,fB2,fD2)"
   ]
  },
  {
   "cell_type": "markdown",
   "metadata": {
    "collapsed": false
   },
   "source": [
    "Let $c_4,c_6,$ and $\\Delta$ denote the invariants of $F_T$. The code below verifies that $A_T=u_T^{-4}c_4, B_T=u_T^{-6}c_6,$ and $D_T=u_T^{-12}\\Delta$:"
   ]
  },
  {
   "cell_type": "code",
   "execution_count": 6,
   "metadata": {
    "collapsed": false
   },
   "outputs": [
    {
     "name": "stdout",
     "output_type": "stream",
     "text": [
      "True\n",
      "True\n",
      "True\n"
     ]
    }
   ],
   "source": [
    "F = F2(a,b)\n",
    "print(S(u2^-4*F.c4()) == S(A2(a,b)))\n",
    "print(S(u2^-6*F.c6()) == S(B2(a,b)))\n",
    "print(S(u2^-12*F.discriminant()) == S(D2(a,b)))"
   ]
  },
  {
   "cell_type": "markdown",
   "metadata": {
    "collapsed": false
   },
   "source": [
    "**Case $T=C_3$.** The code below verifies that $\\mu_T \\mathfrak{A}_T + \\nu_T \\mathfrak{B}_T= 3^{6}(sa^{17}+rb^{17}).$ Since $\\gcd(a,b)=1$, we have that $\\gcd(\\mathfrak{A}_T,\\mathfrak{B}_T) | 3^{6}$. Since $a \\equiv 0 \\mod 6$, we have that $\\mathfrak{A}_T \\not \\equiv 0 \\mod 3$. It follows that $\\gcd (\\mathfrak{A}_T,\\mathfrak{B}_T)=1$."
   ]
  },
  {
   "cell_type": "code",
   "execution_count": 7,
   "metadata": {
    "collapsed": false
   },
   "outputs": [
    {
     "name": "stdout",
     "output_type": "stream",
     "text": [
      "True\n"
     ]
    }
   ],
   "source": [
    "print(R(mu3) * R(fA3)+ R(nu3) *  R(fB3) == R(3^6 *( s*a^17 + r*b^17)))"
   ]
  },
  {
   "cell_type": "markdown",
   "metadata": {
    "collapsed": false
   },
   "source": [
    "The code below verifies that $F_T(a,b) = E_T(\\mathfrak{A}_T,\\mathfrak{B}_T)$:"
   ]
  },
  {
   "cell_type": "code",
   "execution_count": 8,
   "metadata": {
    "collapsed": false
   },
   "outputs": [
    {
     "data": {
      "text/plain": [
       "True"
      ]
     },
     "execution_count": 8,
     "metadata": {
     },
     "output_type": "execute_result"
    }
   ],
   "source": [
    "F3(a,b) == E3(fA3,fB3)"
   ]
  },
  {
   "cell_type": "markdown",
   "metadata": {
    "collapsed": false
   },
   "source": [
    "Let $c_4,c_6,$ and $\\Delta$ denote the invariants of $F_T$. The code below verifies that $A_T=u_T^{-4}c_4, B_T=u_T^{-6}c_6,$ and $D_T=u_T^{-12}\\Delta$:"
   ]
  },
  {
   "cell_type": "code",
   "execution_count": 9,
   "metadata": {
    "collapsed": false
   },
   "outputs": [
    {
     "name": "stdout",
     "output_type": "stream",
     "text": [
      "True\n",
      "True\n",
      "True\n"
     ]
    }
   ],
   "source": [
    "F = F3(a,b)\n",
    "print(S(u3^-4*F.c4()) == S(A3(a,b)))\n",
    "print(S(u3^-6*F.c6()) == S(B3(a,b)))\n",
    "print(S(u3^-12*F.discriminant()) == S(D3(a,b)))"
   ]
  },
  {
   "cell_type": "markdown",
   "metadata": {
    "collapsed": false
   },
   "source": [
    "**Case $T=C_4$.** The code below verifies that $\\mu_T \\mathfrak{A}_T + \\nu_T \\mathfrak{B}_T= 3^{4}(sa^{15}+rb^{15}).$ Since $\\gcd(a,b)=1$, we have that $\\gcd(\\mathfrak{A}_T,\\mathfrak{B}_T) | 3^{4}$. Since $a \\equiv 0 \\mod 6$, we have that $\\mathfrak{A}_T \\not \\equiv 0 \\mod 3$. It follows that $\\gcd (\\mathfrak{A}_T,\\mathfrak{B}_T)=1$."
   ]
  },
  {
   "cell_type": "code",
   "execution_count": 10,
   "metadata": {
    "collapsed": false
   },
   "outputs": [
    {
     "name": "stdout",
     "output_type": "stream",
     "text": [
      "True\n"
     ]
    }
   ],
   "source": [
    "print(R(mu4) * R(fA4)+ R(nu4) *  R(fB4) == R(3^4 *( s*a^15 + r*b^15)))"
   ]
  },
  {
   "cell_type": "markdown",
   "metadata": {
    "collapsed": false
   },
   "source": [
    "The code below verifies that $F_T(a,b) = E_T(\\mathfrak{A}_T,\\mathfrak{B}_T)$:"
   ]
  },
  {
   "cell_type": "code",
   "execution_count": 11,
   "metadata": {
    "collapsed": false
   },
   "outputs": [
    {
     "data": {
      "text/plain": [
       "True"
      ]
     },
     "execution_count": 11,
     "metadata": {
     },
     "output_type": "execute_result"
    }
   ],
   "source": [
    "F4(a,b) == E4(fA4,fB4)"
   ]
  },
  {
   "cell_type": "markdown",
   "metadata": {
    "collapsed": false
   },
   "source": [
    "Let $c_4,c_6,$ and $\\Delta$ denote the invariants of $F_T$. The code below verifies that $A_T=u_T^{-4}c_4, B_T=u_T^{-6}c_6,$ and $D_T=u_T^{-12}\\Delta$:"
   ]
  },
  {
   "cell_type": "code",
   "execution_count": 12,
   "metadata": {
    "collapsed": false
   },
   "outputs": [
    {
     "name": "stdout",
     "output_type": "stream",
     "text": [
      "True\n"
     ]
    },
    {
     "name": "stdout",
     "output_type": "stream",
     "text": [
      "True\n",
      "True\n"
     ]
    }
   ],
   "source": [
    "F = F4(a,b)\n",
    "print(S(u4^-4*F.c4()) == S(A4(a,b)))\n",
    "print(S(u4^-6*F.c6()) == S(B4(a,b)))\n",
    "print(S(u4^-12*F.discriminant()) == S(D4(a,b)))"
   ]
  },
  {
   "cell_type": "markdown",
   "metadata": {
    "collapsed": false
   },
   "source": [
    "**Case $T=C_5$.** The code below verifies that $F_T(a,b) = E_T(\\mathfrak{A}_T,\\mathfrak{B}_T)$:"
   ]
  },
  {
   "cell_type": "code",
   "execution_count": 13,
   "metadata": {
    "collapsed": false
   },
   "outputs": [
    {
     "data": {
      "text/plain": [
       "True"
      ]
     },
     "execution_count": 13,
     "metadata": {
     },
     "output_type": "execute_result"
    }
   ],
   "source": [
    "F5(a,b) == E5(fA5,fB5)"
   ]
  },
  {
   "cell_type": "markdown",
   "metadata": {
    "collapsed": false
   },
   "source": [
    "Let $c_4,c_6,$ and $\\Delta$ denote the invariants of $F_T$. The code below verifies that $A_T=u_T^{-4}c_4, B_T=u_T^{-6}c_6,$ and $D_T=u_T^{-12}\\Delta$:"
   ]
  },
  {
   "cell_type": "code",
   "execution_count": 14,
   "metadata": {
    "collapsed": false
   },
   "outputs": [
    {
     "name": "stdout",
     "output_type": "stream",
     "text": [
      "True\n",
      "True\n",
      "True\n"
     ]
    }
   ],
   "source": [
    "F = F5(a,b)\n",
    "print(S(u5^-4*F.c4()) == S(A5(a,b)))\n",
    "print(S(u5^-6*F.c6()) == S(B5(a,b)))\n",
    "print(S(u5^-12*F.discriminant()) == S(D5(a,b)))"
   ]
  },
  {
   "cell_type": "markdown",
   "metadata": {
    "collapsed": false
   },
   "source": [
    "**Case $T=C_6$.** The code below verifies that $F_T(a,b) = E_T(\\mathfrak{A}_T,\\mathfrak{B}_T)$:"
   ]
  },
  {
   "cell_type": "code",
   "execution_count": 15,
   "metadata": {
    "collapsed": false
   },
   "outputs": [
    {
     "data": {
      "text/plain": [
       "True"
      ]
     },
     "execution_count": 15,
     "metadata": {
     },
     "output_type": "execute_result"
    }
   ],
   "source": [
    "F6(a,b) == E6(fA6,fB6)"
   ]
  },
  {
   "cell_type": "markdown",
   "metadata": {
    "collapsed": false
   },
   "source": [
    "Let $c_4,c_6,$ and $\\Delta$ denote the invariants of $F_T$. The code below verifies that $A_T=u_T^{-4}c_4, B_T=u_T^{-6}c_6,$ and $D_T=u_T^{-12}\\Delta$:"
   ]
  },
  {
   "cell_type": "code",
   "execution_count": 16,
   "metadata": {
    "collapsed": false
   },
   "outputs": [
    {
     "name": "stdout",
     "output_type": "stream",
     "text": [
      "True\n",
      "True\n",
      "True\n"
     ]
    }
   ],
   "source": [
    "F = F6(a,b)\n",
    "print(S(u6^-4*F.c4()) == S(A6(a,b)))\n",
    "print(S(u6^-6*F.c6()) == S(B6(a,b)))\n",
    "print(S(u6^-12*F.discriminant()) == S(D6(a,b)))"
   ]
  },
  {
   "cell_type": "markdown",
   "metadata": {
    "collapsed": false
   },
   "source": [
    "**Case $T=C_7$.** The code below verifies that $F_T(a,b) = E_T(\\mathfrak{A}_T,\\mathfrak{B}_T)$:"
   ]
  },
  {
   "cell_type": "code",
   "execution_count": 17,
   "metadata": {
    "collapsed": false
   },
   "outputs": [
    {
     "data": {
      "text/plain": [
       "True"
      ]
     },
     "execution_count": 17,
     "metadata": {
     },
     "output_type": "execute_result"
    }
   ],
   "source": [
    "F7(a,b) == E7(fA7,fB7)"
   ]
  },
  {
   "cell_type": "markdown",
   "metadata": {
    "collapsed": false
   },
   "source": [
    "Let $c_4,c_6,$ and $\\Delta$ denote the invariants of $F_T$. The code below verifies that $A_T=u_T^{-4}c_4, B_T=u_T^{-6}c_6,$ and $D_T=u_T^{-12}\\Delta$:"
   ]
  },
  {
   "cell_type": "code",
   "execution_count": 18,
   "metadata": {
    "collapsed": false
   },
   "outputs": [
    {
     "name": "stdout",
     "output_type": "stream",
     "text": [
      "True\n",
      "True\n",
      "True\n"
     ]
    }
   ],
   "source": [
    "F = F7(a,b)\n",
    "print(S(u7^-4*F.c4()) == S(A7(a,b)))\n",
    "print(S(u7^-6*F.c6()) == S(B7(a,b)))\n",
    "print(S(u7^-12*F.discriminant()) == S(D7(a,b)))"
   ]
  },
  {
   "cell_type": "markdown",
   "metadata": {
    "collapsed": false
   },
   "source": [
    "**Case $T=C_8$.** The code below verifies that $F_T(a,b) = E_T(\\mathfrak{A}_T,\\mathfrak{B}_T)$:"
   ]
  },
  {
   "cell_type": "code",
   "execution_count": 19,
   "metadata": {
    "collapsed": false
   },
   "outputs": [
    {
     "data": {
      "text/plain": [
       "True"
      ]
     },
     "execution_count": 19,
     "metadata": {
     },
     "output_type": "execute_result"
    }
   ],
   "source": [
    "F8(a,b) == E8(fA8,fB8)"
   ]
  },
  {
   "cell_type": "markdown",
   "metadata": {
    "collapsed": false
   },
   "source": [
    "Let $c_4,c_6,$ and $\\Delta$ denote the invariants of $F_T$. The code below verifies that $A_T=u_T^{-4}c_4, B_T=u_T^{-6}c_6,$ and $D_T=u_T^{-12}\\Delta$:"
   ]
  },
  {
   "cell_type": "code",
   "execution_count": 20,
   "metadata": {
    "collapsed": false
   },
   "outputs": [
    {
     "name": "stdout",
     "output_type": "stream",
     "text": [
      "True\n",
      "True\n",
      "True\n"
     ]
    }
   ],
   "source": [
    "F = F8(a,b)\n",
    "print(S(u8^-4*F.c4()) == S(A8(a,b)))\n",
    "print(S(u8^-6*F.c6()) == S(B8(a,b)))\n",
    "print(S(u8^-12*F.discriminant()) == S(D8(a,b)))"
   ]
  },
  {
   "cell_type": "markdown",
   "metadata": {
    "collapsed": false
   },
   "source": [
    "**Case $T=C_9$.** The code below verifies that $F_T(a,b) = E_T(\\mathfrak{A}_T,\\mathfrak{B}_T)$:"
   ]
  },
  {
   "cell_type": "code",
   "execution_count": 21,
   "metadata": {
    "collapsed": false
   },
   "outputs": [
    {
     "data": {
      "text/plain": [
       "True"
      ]
     },
     "execution_count": 21,
     "metadata": {
     },
     "output_type": "execute_result"
    }
   ],
   "source": [
    "F9(a,b) == E9(fA9,fB9)"
   ]
  },
  {
   "cell_type": "markdown",
   "metadata": {
    "collapsed": false
   },
   "source": [
    "Let $c_4,c_6,$ and $\\Delta$ denote the invariants of $F_T$. The code below verifies that $A_T=u_T^{-4}c_4, B_T=u_T^{-6}c_6,$ and $D_T=u_T^{-12}\\Delta$:"
   ]
  },
  {
   "cell_type": "code",
   "execution_count": 22,
   "metadata": {
    "collapsed": false
   },
   "outputs": [
    {
     "name": "stdout",
     "output_type": "stream",
     "text": [
      "True\n",
      "True\n",
      "True\n"
     ]
    }
   ],
   "source": [
    "F = F9(a,b)\n",
    "print(S(u9^-4*F.c4()) == S(A9(a,b)))\n",
    "print(S(u9^-6*F.c6()) == S(B9(a,b)))\n",
    "print(S(u9^-12*F.discriminant()) == S(D9(a,b)))"
   ]
  },
  {
   "cell_type": "markdown",
   "metadata": {
    "collapsed": false
   },
   "source": [
    "**Case $T=C_{10}$.** The code below verifies that $F_T(a,b) = E_T(\\mathfrak{A}_T,\\mathfrak{B}_T)$:"
   ]
  },
  {
   "cell_type": "markdown",
   "metadata": {
    "collapsed": false
   },
   "source": [
    "Let $c_4,c_6,$ and $\\Delta$ denote the invariants of $F_T$. The code below verifies that $A_T=u_T^{-4}c_4, B_T=u_T^{-6}c_6,$ and $D_T=u_T^{-12}\\Delta$:"
   ]
  },
  {
   "cell_type": "code",
   "execution_count": 23,
   "metadata": {
    "collapsed": false
   },
   "outputs": [
    {
     "data": {
      "text/plain": [
       "True"
      ]
     },
     "execution_count": 23,
     "metadata": {
     },
     "output_type": "execute_result"
    }
   ],
   "source": [
    "F10(a,b) == E10(fA10,fB10)"
   ]
  },
  {
   "cell_type": "code",
   "execution_count": 24,
   "metadata": {
    "collapsed": false
   },
   "outputs": [
    {
     "name": "stdout",
     "output_type": "stream",
     "text": [
      "True\n",
      "True\n",
      "True\n"
     ]
    }
   ],
   "source": [
    "F = F10(a,b)\n",
    "print(S(u10^-4*F.c4()) == S(A10(a,b)))\n",
    "print(S(u10^-6*F.c6()) == S(B10(a,b)))\n",
    "print(S(u10^-12*F.discriminant()) == S(D10(a,b)))"
   ]
  },
  {
   "cell_type": "markdown",
   "metadata": {
    "collapsed": false
   },
   "source": [
    "**Case $T=C_{12}$.** The code below verifies that $F_T(a,b) = E_T(\\mathfrak{A}_T,\\mathfrak{B}_T)$:"
   ]
  },
  {
   "cell_type": "code",
   "execution_count": 25,
   "metadata": {
    "collapsed": false
   },
   "outputs": [
    {
     "data": {
      "text/plain": [
       "True"
      ]
     },
     "execution_count": 25,
     "metadata": {
     },
     "output_type": "execute_result"
    }
   ],
   "source": [
    "F12(a,b) == E12(fA12,fB12)\n"
   ]
  },
  {
   "cell_type": "markdown",
   "metadata": {
    "collapsed": false
   },
   "source": [
    "Let $c_4,c_6,$ and $\\Delta$ denote the invariants of $F_T$. The code below verifies that $A_T=u_T^{-4}c_4, B_T=u_T^{-6}c_6,$ and $D_T=u_T^{-12}\\Delta$:"
   ]
  },
  {
   "cell_type": "code",
   "execution_count": 26,
   "metadata": {
    "collapsed": false
   },
   "outputs": [
    {
     "name": "stdout",
     "output_type": "stream",
     "text": [
      "True\n",
      "True\n",
      "True\n"
     ]
    }
   ],
   "source": [
    "F = F12(a,b)\n",
    "print(S(u12^-4*F.c4()) == S(A12(a,b)))\n",
    "print(S(u12^-6*F.c6()) == S(B12(a,b)))\n",
    "print(S(u12^-12*F.discriminant()) == S(D12(a,b)))"
   ]
  },
  {
   "cell_type": "markdown",
   "metadata": {
    "collapsed": false
   },
   "source": [
    "**Case $T=C_2 \\times C_2 $.** The code below verifies that $\\mu_T \\mathfrak{A}_T + \\nu_T \\mathfrak{B}_T= 2^{12}(sa^{15}+rb^{15}).$ Since $\\gcd(a,b)=1$, we have that $\\gcd(\\mathfrak{A}_T,\\mathfrak{B}_T) | 3^{6}$. Since $a \\equiv 0 \\mod 6$, we have that $\\mathfrak{A}_T \\not \\equiv 0 \\mod 3$. It follows that $\\gcd (\\mathfrak{A}_T,\\mathfrak{B}_T)=1$."
   ]
  },
  {
   "cell_type": "code",
   "execution_count": 27,
   "metadata": {
    "collapsed": false
   },
   "outputs": [
    {
     "name": "stdout",
     "output_type": "stream",
     "text": [
      "True\n"
     ]
    }
   ],
   "source": [
    "print(R(mu22) * R(fA22)+ R(nu22) *  R(fB22) == R(2^12 *( s*a^15 + r*b^15)))"
   ]
  },
  {
   "cell_type": "markdown",
   "metadata": {
    "collapsed": false
   },
   "source": [
    "The code below verifies that $F_T(a,b) = E_T(\\mathfrak{A}_T,\\mathfrak{B}_T,\\mathfrak{D}_T)$:"
   ]
  },
  {
   "cell_type": "code",
   "execution_count": 28,
   "metadata": {
    "collapsed": false
   },
   "outputs": [
    {
     "data": {
      "text/plain": [
       "True"
      ]
     },
     "execution_count": 28,
     "metadata": {
     },
     "output_type": "execute_result"
    }
   ],
   "source": [
    "F22(a,b) == E22(fA22,fB22,1)"
   ]
  },
  {
   "cell_type": "markdown",
   "metadata": {
    "collapsed": false
   },
   "source": [
    "Let $c_4,c_6,$ and $\\Delta$ denote the invariants of $F_T$. The code below verifies that $A_T=u_T^{-4}c_4, B_T=u_T^{-6}c_6,$ and $D_T=u_T^{-12}\\Delta$:"
   ]
  },
  {
   "cell_type": "code",
   "execution_count": 29,
   "metadata": {
    "collapsed": false
   },
   "outputs": [
    {
     "name": "stdout",
     "output_type": "stream",
     "text": [
      "True\n",
      "True\n",
      "True\n"
     ]
    }
   ],
   "source": [
    "F = F22(a,b)\n",
    "print(S(u22^-4*F.c4()) == S(A22(a,b)))\n",
    "print(S(u22^-6*F.c6()) == S(B22(a,b)))\n",
    "print(S(u22^-12*F.discriminant()) == S(D22(a,b)))"
   ]
  },
  {
   "cell_type": "markdown",
   "metadata": {
    "collapsed": false
   },
   "source": [
    "**Case $T=C_2 \\times C_4$.** The code below verifies that $F_T(a,b) = E_T(\\mathfrak{A}_T,\\mathfrak{B}_T)$:"
   ]
  },
  {
   "cell_type": "code",
   "execution_count": 30,
   "metadata": {
    "collapsed": false
   },
   "outputs": [
    {
     "data": {
      "text/plain": [
       "True"
      ]
     },
     "execution_count": 30,
     "metadata": {
     },
     "output_type": "execute_result"
    }
   ],
   "source": [
    "F24(a,b) == E24(fA24,fB24)"
   ]
  },
  {
   "cell_type": "markdown",
   "metadata": {
    "collapsed": false
   },
   "source": [
    "Let $c_4,c_6,$ and $\\Delta$ denote the invariants of $F_T$. The code below verifies that $A_T=u_T^{-4}c_4, B_T=u_T^{-6}c_6,$ and $D_T=u_T^{-12}\\Delta$:"
   ]
  },
  {
   "cell_type": "code",
   "execution_count": 31,
   "metadata": {
    "collapsed": false
   },
   "outputs": [
    {
     "name": "stdout",
     "output_type": "stream",
     "text": [
      "True\n",
      "True\n",
      "True\n"
     ]
    }
   ],
   "source": [
    "F = F24(a,b)\n",
    "print(S(u24^-4*F.c4()) == S(A24(a,b)))\n",
    "print(S(u24^-6*F.c6()) == S(B24(a,b)))\n",
    "print(S(u24^-12*F.discriminant()) == S(D24(a,b)))"
   ]
  },
  {
   "cell_type": "markdown",
   "metadata": {
    "collapsed": false
   },
   "source": [
    "**Case $T=C_2 \\times C_6$.** The code below verifies that $F_T(a,b) = E_T(\\mathfrak{A}_T,\\mathfrak{B}_T)$:"
   ]
  },
  {
   "cell_type": "code",
   "execution_count": 32,
   "metadata": {
    "collapsed": false
   },
   "outputs": [
    {
     "data": {
      "text/plain": [
       "True"
      ]
     },
     "execution_count": 32,
     "metadata": {
     },
     "output_type": "execute_result"
    }
   ],
   "source": [
    "F26(a,b) == E26(fA26,fB26)"
   ]
  },
  {
   "cell_type": "markdown",
   "metadata": {
    "collapsed": false
   },
   "source": [
    "Let $c_4,c_6,$ and $\\Delta$ denote the invariants of $F_T$. The code below verifies that $A_T=u_T^{-4}c_4, B_T=u_T^{-6}c_6,$ and $D_T=u_T^{-12}\\Delta$:"
   ]
  },
  {
   "cell_type": "code",
   "execution_count": 33,
   "metadata": {
    "collapsed": false
   },
   "outputs": [
    {
     "name": "stdout",
     "output_type": "stream",
     "text": [
      "True\n",
      "True\n",
      "True\n"
     ]
    }
   ],
   "source": [
    "F = F26(a,b)\n",
    "print(S(u26^-4*F.c4()) == S(A26(a,b)))\n",
    "print(S(u26^-6*F.c6()) == S(B26(a,b)))\n",
    "print(S(u26^-12*F.discriminant()) == S(D26(a,b)))"
   ]
  },
  {
   "cell_type": "markdown",
   "metadata": {
    "collapsed": false
   },
   "source": [
    "**Case $T=C_2 \\times C_8$.** The code below verifies that $F_T(a,b) = E_T(\\mathfrak{A}_T,\\mathfrak{B}_T)$:"
   ]
  },
  {
   "cell_type": "code",
   "execution_count": 34,
   "metadata": {
    "collapsed": false
   },
   "outputs": [
    {
     "data": {
      "text/plain": [
       "True"
      ]
     },
     "execution_count": 34,
     "metadata": {
     },
     "output_type": "execute_result"
    }
   ],
   "source": [
    "F28(a,b) == E28(fA28,fB28)"
   ]
  },
  {
   "cell_type": "markdown",
   "metadata": {
    "collapsed": false
   },
   "source": [
    "Let $c_4,c_6,$ and $\\Delta$ denote the invariants of $F_T$. The code below verifies that $A_T=u_T^{-4}c_4, B_T=u_T^{-6}c_6,$ and $D_T=u_T^{-12}\\Delta$:"
   ]
  },
  {
   "cell_type": "code",
   "execution_count": 35,
   "metadata": {
    "collapsed": false
   },
   "outputs": [
    {
     "name": "stdout",
     "output_type": "stream",
     "text": [
      "True\n",
      "True\n",
      "True\n"
     ]
    }
   ],
   "source": [
    "F = F28(a,b)\n",
    "print(S(u28^-4*F.c4()) == S(A28(a,b)))\n",
    "print(S(u28^-6*F.c6()) == S(B28(a,b)))\n",
    "print(S(u28^-12*F.discriminant()) == S(D28(a,b)))"
   ]
  }
 ],
 "metadata": {
  "kernelspec": {
   "display_name": "SageMath 9.1",
   "language": "sagemath",
   "metadata": {
    "cocalc": {
     "description": "Open-source mathematical software system",
     "priority": 10,
     "url": "https://www.sagemath.org/"
    }
   },
   "name": "sage-9.1",
   "resource_dir": "/ext/jupyter/kernels/sage-9.1"
  },
  "language_info": {
   "codemirror_mode": {
    "name": "ipython",
    "version": 3
   },
   "file_extension": ".py",
   "mimetype": "text/x-python",
   "name": "python",
   "nbconvert_exporter": "python",
   "pygments_lexer": "ipython3",
   "version": "3.7.3"
  }
 },
 "nbformat": 4,
 "nbformat_minor": 4
}