{
 "cells": [
  {
   "cell_type": "code",
   "execution_count": 1,
   "metadata": {
    "collapsed": false
   },
   "outputs": [
   ],
   "source": [
    "load('definitions.sage')"
   ]
  },
  {
   "cell_type": "code",
   "execution_count": 2,
   "metadata": {
    "collapsed": false
   },
   "outputs": [
    {
     "name": "stdout",
     "output_type": "stream",
     "text": [
      "True\n",
      "True\n",
      "True\n",
      "True\n",
      "True\n",
      "True\n",
      "True\n",
      "True\n",
      "True\n",
      "True\n",
      "True\n",
      "True\n",
      "True\n",
      "True\n"
     ]
    }
   ],
   "source": [
    "print(S(A1(a,b)) == S(a^(n1/3)*A1(1,b/a)))\n",
    "print(S(A2(a,b)) == S(a^(n2/3)*A2(1,b/a)))\n",
    "print(S(A3(a,b)) == S(a^(n3/3)*A3(1,b/a)))\n",
    "print(S(A4(a,b)) == S(a^(n4/3)*A4(1,b/a)))\n",
    "print(S(A6(a,b)) == S(a^(n6/3)*A6(1,b/a)))\n",
    "print(S(A7(a,b)) == S(a^(n7/3)*A7(1,b/a)))\n",
    "print(S(A8(a,b)) == S(a^(n8/3)*A8(1,b/a)))\n",
    "print(S(A9(a,b)) == S(a^(n9/3)*A9(1,b/a)))\n",
    "print(S(A10(a,b)) == S(a^(n10/3)*A10(1,b/a)))\n",
    "print(S(A12(a,b)) == S(a^(n12/3)*A12(1,b/a)))\n",
    "print(S(A22(a,b)) == S(a^(n22/3)*A22(1,b/a)))\n",
    "print(S(A24(a,b)) == S(a^(n24/3)*A24(1,b/a)))\n",
    "print(S(A26(a,b)) == S(a^(n26/3)*A26(1,b/a)))\n",
    "print(S(A28(a,b)) == S(a^(n28/3)*A28(1,b/a)))"
   ]
  },
  {
   "cell_type": "code",
   "execution_count": 3,
   "metadata": {
    "collapsed": false
   },
   "outputs": [
    {
     "name": "stdout",
     "output_type": "stream",
     "text": [
      "True\n",
      "True\n",
      "True\n",
      "True\n",
      "True\n",
      "True\n",
      "True\n",
      "True\n",
      "True\n",
      "True\n",
      "True\n",
      "True\n",
      "True\n",
      "True\n"
     ]
    }
   ],
   "source": [
    "print(S(B1(a,b)) == S(a^(n1/2)*B1(1,b/a)))\n",
    "print(S(B2(a,b)) == S(a^(n2/2)*B2(1,b/a)))\n",
    "print(S(B3(a,b)) == S(a^(n3/2)*B3(1,b/a)))\n",
    "print(S(B4(a,b)) == S(a^(n4/2)*B4(1,b/a)))\n",
    "print(S(B6(a,b)) == S(a^(n6/2)*B6(1,b/a)))\n",
    "print(S(B7(a,b)) == S(a^(n7/2)*B7(1,b/a)))\n",
    "print(S(B8(a,b)) == S(a^(n8/2)*B8(1,b/a)))\n",
    "print(S(B9(a,b)) == S(a^(n9/2)*B9(1,b/a)))\n",
    "print(S(B10(a,b)) == S(a^(n10/2)*B10(1,b/a)))\n",
    "print(S(B12(a,b)) == S(a^(n12/2)*B12(1,b/a)))\n",
    "print(S(B22(a,b)) == S(a^(n22/2)*B22(1,b/a)))\n",
    "print(S(B24(a,b)) == S(a^(n24/2)*B24(1,b/a)))\n",
    "print(S(B26(a,b)) == S(a^(n26/2)*B26(1,b/a)))\n",
    "print(S(B28(a,b)) == S(a^(n28/2)*B28(1,b/a)))"
   ]
  },
  {
   "cell_type": "code",
   "execution_count": 4,
   "metadata": {
    "collapsed": false
   },
   "outputs": [
    {
     "name": "stdout",
     "output_type": "stream",
     "text": [
      "True\n",
      "True\n",
      "True\n",
      "True\n",
      "True\n",
      "True\n",
      "True\n",
      "True\n",
      "True\n",
      "True\n",
      "True\n",
      "True\n",
      "True\n",
      "True\n"
     ]
    }
   ],
   "source": [
    "print(S(D1(a,b)) == S(a^(n1)*D1(1,b/a)))\n",
    "print(S(D2(a,b)) == S(a^(n2)*D2(1,b/a)))\n",
    "print(S(D3(a,b)) == S(a^(n3)*D3(1,b/a)))\n",
    "print(S(D4(a,b)) == S(a^(n4)*D4(1,b/a)))\n",
    "print(S(D6(a,b)) == S(a^(n6)*D6(1,b/a)))\n",
    "print(S(D7(a,b)) == S(a^(n7)*D7(1,b/a)))\n",
    "print(S(D8(a,b)) == S(a^(n8)*D8(1,b/a)))\n",
    "print(S(D9(a,b)) == S(a^(n9)*D9(1,b/a)))\n",
    "print(S(D10(a,b)) == S(a^(n10)*D10(1,b/a)))\n",
    "print(S(D12(a,b)) == S(a^(n12)*D12(1,b/a)))\n",
    "print(S(D22(a,b)) == S(a^(n22)*D22(1,b/a)))\n",
    "print(S(D24(a,b)) == S(a^(n24)*D24(1,b/a)))\n",
    "print(S(D26(a,b)) == S(a^(n26)*D26(1,b/a)))\n",
    "print(S(D28(a,b)) == S(a^(n28)*D28(1,b/a)))"
   ]
  },
  {
   "cell_type": "code",
   "execution_count": 5,
   "metadata": {
    "collapsed": false
   },
   "outputs": [
    {
     "name": "stdout",
     "output_type": "stream",
     "text": [
      "True\n",
      "True\n",
      "True\n",
      "True\n",
      "True\n",
      "True\n",
      "True\n",
      "True\n",
      "True\n",
      "True\n",
      "True\n",
      "True\n",
      "True\n",
      "True\n"
     ]
    }
   ],
   "source": [
    "print(S(Dh1(a,b)) == S(a^(n1/6)*Dh1(1,b/a)))\n",
    "print(S(Dh2(a,b)) == S(a^(n2/6)*Dh2(1,b/a)))\n",
    "print(S(Dh3(a,b)) == S(a^(n3/6)*Dh3(1,b/a)))\n",
    "print(S(Dh4(a,b)) == S(a^(n4/6)*Dh4(1,b/a)))\n",
    "print(S(Dh6(a,b)) == S(a^(n6/6)*Dh6(1,b/a)))\n",
    "print(S(Dh7(a,b)) == S(a^(n7/6)*Dh7(1,b/a)))\n",
    "print(S(Dh8(a,b)) == S(a^(n8/6)*Dh8(1,b/a)))\n",
    "print(S(Dh9(a,b)) == S(a^(n9/6)*Dh9(1,b/a)))\n",
    "print(S(Dh10(a,b)) == S(a^(n10/6)*Dh10(1,b/a)))\n",
    "print(S(Dh12(a,b)) == S(a^(n12/6)*Dh12(1,b/a)))\n",
    "print(S(Dh22(a,b)) == S(a^(n22/6)*Dh22(1,b/a)))\n",
    "print(S(Dh24(a,b)) == S(a^(n24/6)*Dh24(1,b/a)))\n",
    "print(S(Dh26(a,b)) == S(a^(n26/6)*Dh26(1,b/a)))\n",
    "print(S(Dh28(a,b)) == S(a^(n28/6)*Dh28(1,b/a)))"
   ]
  }
 ],
 "metadata": {
  "kernelspec": {
   "display_name": "SageMath 9.1",
   "language": "sagemath",
   "metadata": {
    "cocalc": {
     "description": "Open-source mathematical software system",
     "priority": 10,
     "url": "https://www.sagemath.org/"
    }
   },
   "name": "sage-9.1",
   "resource_dir": "/ext/jupyter/kernels/sage-9.1"
  },
  "language_info": {
   "codemirror_mode": {
    "name": "ipython",
    "version": 3
   },
   "file_extension": ".py",
   "mimetype": "text/x-python",
   "name": "python",
   "nbconvert_exporter": "python",
   "pygments_lexer": "ipython3",
   "version": "3.7.3"
  }
 },
 "nbformat": 4,
 "nbformat_minor": 4
}